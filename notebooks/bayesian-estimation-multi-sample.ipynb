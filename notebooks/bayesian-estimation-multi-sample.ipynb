{
 "cells": [
  {
   "cell_type": "code",
   "execution_count": 1,
   "metadata": {
    "ExecuteTime": {
     "end_time": "2017-07-27T21:39:11.535478Z",
     "start_time": "2017-07-27T21:39:08.727876Z"
    },
    "scrolled": true
   },
   "outputs": [],
   "source": [
    "import pymc3 as pm\n",
    "import pandas as pd\n",
    "import matplotlib.pyplot as plt\n",
    "from matplotlib.gridspec import GridSpec\n",
    "import janitor as jn\n",
    "from utils import ecdf\n",
    "from sklearn.preprocessing import LabelEncoder\n",
    "\n",
    "%load_ext autoreload\n",
    "%autoreload 2\n",
    "%matplotlib inline\n",
    "%config InlineBackend.figure_format = 'retina'"
   ]
  },
  {
   "cell_type": "markdown",
   "metadata": {},
   "source": [
    "## Problem Type\n",
    "\n",
    "The Bayesian estimation model is widely applicable across a number of scenarios. The classical scenario is when we have an experimental design where there is a control vs. a treatment, and we want to know what the difference is between the two. Here, \"estimation\" is used to estimate the \"true\" value for the control and the \"true\" value for the treatment, and the \"Bayesian\" part refers to the computation of the uncertainty surrounding the parameter. \n",
    "\n",
    "Bayesian estimation's advantages over the classical t-test was first described by John Kruschke (2013). \n",
    "\n",
    "In this notebook, I provide a concise implementation suitable for two-sample and multi-sample inference.\n",
    "\n",
    "## Data structure\n",
    "\n",
    "To use it with this model, the data should be structured as such:\n",
    "\n",
    "- Each row is one measurement.\n",
    "- The columns should indicate, at the minimum:\n",
    "    - What treatment group the sample belonged to.\n",
    "    - The measured value.\n",
    "\n",
    "## Extensions to the model\n",
    "\n",
    "As of now, the model only samples posterior distributions of measured values. The model, then, may be extended to compute differences in means (sample vs. control) or effect sizes, complete with uncertainty around it. Use `pm.Deterministic(...)` to ensure that those statistics' posterior distributions, i.e. uncertainty, are also computed.\n",
    "\n",
    "## Reporting summarized findings\n",
    "\n",
    "Here are examples of how to summarize the findings.\n",
    "\n",
    "> Treatment group A was greater than control by x units (95% HPD: [`lower`, `upper`]). \n",
    "\n",
    "> Treatment group A was higher than control (effect size 95% HPD: [`lower`, `upper`]). \n",
    "\n",
    "## Other notes\n",
    "\n",
    "Here, we make a few modelling choices.\n",
    "\n",
    "1. We care only about the `normalized_measurement` column, and so we choose the t-distribution to model it, as we don't have a good \"mechanistic\" model that incorporates measurement error of OD600 and 'measurement'."
   ]
  },
  {
   "cell_type": "code",
   "execution_count": 2,
   "metadata": {
    "ExecuteTime": {
     "end_time": "2017-07-27T21:39:11.550490Z",
     "start_time": "2017-07-27T21:39:11.536811Z"
    }
   },
   "outputs": [
    {
     "data": {
      "text/html": [
       "<div>\n",
       "<style scoped>\n",
       "    .dataframe tbody tr th:only-of-type {\n",
       "        vertical-align: middle;\n",
       "    }\n",
       "\n",
       "    .dataframe tbody tr th {\n",
       "        vertical-align: top;\n",
       "    }\n",
       "\n",
       "    .dataframe thead th {\n",
       "        text-align: right;\n",
       "    }\n",
       "</style>\n",
       "<table border=\"1\" class=\"dataframe\">\n",
       "  <thead>\n",
       "    <tr style=\"text-align: right;\">\n",
       "      <th></th>\n",
       "      <th>experiment</th>\n",
       "      <th>isolate</th>\n",
       "      <th>ST</th>\n",
       "      <th>OD600</th>\n",
       "      <th>measurement</th>\n",
       "      <th>replicate</th>\n",
       "      <th>normalized_measurement</th>\n",
       "      <th>isolate_enc</th>\n",
       "    </tr>\n",
       "  </thead>\n",
       "  <tbody>\n",
       "    <tr>\n",
       "      <th>0</th>\n",
       "      <td>1</td>\n",
       "      <td>1</td>\n",
       "      <td>4.0</td>\n",
       "      <td>0.461</td>\n",
       "      <td>0.317</td>\n",
       "      <td>1.0</td>\n",
       "      <td>0.687636</td>\n",
       "      <td>0</td>\n",
       "    </tr>\n",
       "    <tr>\n",
       "      <th>1</th>\n",
       "      <td>1</td>\n",
       "      <td>2</td>\n",
       "      <td>55.0</td>\n",
       "      <td>0.346</td>\n",
       "      <td>0.434</td>\n",
       "      <td>1.0</td>\n",
       "      <td>1.254335</td>\n",
       "      <td>7</td>\n",
       "    </tr>\n",
       "    <tr>\n",
       "      <th>2</th>\n",
       "      <td>1</td>\n",
       "      <td>3</td>\n",
       "      <td>55.0</td>\n",
       "      <td>0.356</td>\n",
       "      <td>0.917</td>\n",
       "      <td>1.0</td>\n",
       "      <td>2.575843</td>\n",
       "      <td>8</td>\n",
       "    </tr>\n",
       "    <tr>\n",
       "      <th>3</th>\n",
       "      <td>1</td>\n",
       "      <td>4</td>\n",
       "      <td>4.0</td>\n",
       "      <td>0.603</td>\n",
       "      <td>1.061</td>\n",
       "      <td>1.0</td>\n",
       "      <td>1.759536</td>\n",
       "      <td>9</td>\n",
       "    </tr>\n",
       "    <tr>\n",
       "      <th>4</th>\n",
       "      <td>1</td>\n",
       "      <td>5</td>\n",
       "      <td>330.0</td>\n",
       "      <td>0.444</td>\n",
       "      <td>3.701</td>\n",
       "      <td>1.0</td>\n",
       "      <td>8.335586</td>\n",
       "      <td>10</td>\n",
       "    </tr>\n",
       "  </tbody>\n",
       "</table>\n",
       "</div>"
      ],
      "text/plain": [
       "   experiment isolate     ST  OD600  measurement  replicate  \\\n",
       "0           1       1    4.0  0.461        0.317        1.0   \n",
       "1           1       2   55.0  0.346        0.434        1.0   \n",
       "2           1       3   55.0  0.356        0.917        1.0   \n",
       "3           1       4    4.0  0.603        1.061        1.0   \n",
       "4           1       5  330.0  0.444        3.701        1.0   \n",
       "\n",
       "   normalized_measurement  isolate_enc  \n",
       "0                0.687636            0  \n",
       "1                1.254335            7  \n",
       "2                2.575843            8  \n",
       "3                1.759536            9  \n",
       "4                8.335586           10  "
      ]
     },
     "execution_count": 2,
     "metadata": {},
     "output_type": "execute_result"
    }
   ],
   "source": [
    "# Read in the data\n",
    "df = pd.read_csv(\"../datasets/biofilm.csv\").label_encode(\n",
    "    columns=[\"isolate\"]\n",
    ")  # encode isolate as labels.\n",
    "\n",
    "# Convert continuous columns to floatX for GPU compatibility.\n",
    "continuous_cols = [\"OD600\", \"ST\", \"replicate\", \"measurement\", \"normalized_measurement\"]\n",
    "for c in continuous_cols:\n",
    "    df[c] = pm.floatX(df[c])\n",
    "\n",
    "# Display a subset of the data.\n",
    "df.head()"
   ]
  },
  {
   "cell_type": "markdown",
   "metadata": {},
   "source": [
    "# Model Specification\n",
    "\n",
    "Below, we define the model.\n",
    "\n",
    "A visual representation of the model is below.\n",
    "\n",
    "![](../images/biofilm.png)"
   ]
  },
  {
   "cell_type": "code",
   "execution_count": null,
   "metadata": {
    "ExecuteTime": {
     "end_time": "2017-07-27T21:39:19.816518Z",
     "start_time": "2017-07-27T21:39:11.571775Z"
    },
    "collapsed": true
   },
   "outputs": [],
   "source": [
    "with pm.Model() as best:\n",
    "    nu = pm.Exponential(\"nu_minus_one\", lam=1 / 30) + 1\n",
    "\n",
    "    fold = pm.Flat(\"fold\", shape=len(set(df[\"isolate_enc\"])))\n",
    "\n",
    "    var = pm.HalfCauchy(\"var\", beta=1, shape=len(set(df[\"isolate_enc\"])))\n",
    "\n",
    "    mu = fold[df[\"isolate_enc\"].values]\n",
    "    sd = var[df[\"isolate_enc\"].values]\n",
    "\n",
    "    like = pm.StudentT(\n",
    "        \"like\", mu=mu, sd=sd, nu=nu, observed=df[\"normalized_measurement\"]\n",
    "    )\n",
    "\n",
    "    # Compute differences\n",
    "    diffs = pm.Deterministic(\"differences\", fold[1:] - fold[0])"
   ]
  },
  {
   "cell_type": "markdown",
   "metadata": {},
   "source": [
    "Sample from the posterior distribution."
   ]
  },
  {
   "cell_type": "code",
   "execution_count": null,
   "metadata": {
    "ExecuteTime": {
     "end_time": "2017-07-27T21:40:41.048292Z",
     "start_time": "2017-07-27T21:39:19.818053Z"
    },
    "scrolled": false
   },
   "outputs": [],
   "source": [
    "with best:\n",
    "    trace = pm.sample(draws=2000, njobs=1)"
   ]
  },
  {
   "cell_type": "markdown",
   "metadata": {},
   "source": [
    "Check for convergence using the traceplot."
   ]
  },
  {
   "cell_type": "code",
   "execution_count": null,
   "metadata": {},
   "outputs": [],
   "source": [
    "pm.traceplot(trace)"
   ]
  },
  {
   "cell_type": "markdown",
   "metadata": {},
   "source": [
    "Looking at the traces, yes, everything looks more or less like a hairy caterpillar. This means that sampling went well, and has converged, thus we have a good MCMC estimator of the posterior distribution."
   ]
  },
  {
   "cell_type": "markdown",
   "metadata": {},
   "source": [
    "I need a mapping of isolate to its encoding - will come in handy below."
   ]
  },
  {
   "cell_type": "code",
   "execution_count": null,
   "metadata": {},
   "outputs": [],
   "source": [
    "mapping = dict(zip(df[\"isolate_enc\"], df[\"isolate\"]))\n",
    "mapping"
   ]
  },
  {
   "cell_type": "markdown",
   "metadata": {},
   "source": [
    "Let's use the Forest Plot to summarize how the strains differ from one another."
   ]
  },
  {
   "cell_type": "code",
   "execution_count": null,
   "metadata": {
    "ExecuteTime": {
     "end_time": "2017-07-27T21:40:41.049843Z",
     "start_time": "2017-07-27T21:39:08.714Z"
    }
   },
   "outputs": [],
   "source": [
    "ylabels = [mapping[i] for i in sorted(mapping.keys())]\n",
    "pm.forestplot(trace, varnames=[\"fold\"], ylabels=ylabels)"
   ]
  },
  {
   "cell_type": "markdown",
   "metadata": {},
   "source": [
    "It's quite clear that:\n",
    "\n",
    "- Strain 5 is very good at forming biofilms.\n",
    "- Strain 1 (control strain) is not good at forming biofilms."
   ]
  },
  {
   "cell_type": "markdown",
   "metadata": {},
   "source": [
    "Let's look at the difference between the strains."
   ]
  },
  {
   "cell_type": "code",
   "execution_count": null,
   "metadata": {},
   "outputs": [],
   "source": [
    "pm.forestplot(trace, varnames=[\"differences\"], ylabels=ylabels[1:])"
   ]
  },
  {
   "cell_type": "markdown",
   "metadata": {},
   "source": [
    "Apart from Strain 2, none of the other strains' difference HPDs cross \"zero\".\n",
    "\n",
    "This means that they all would be considered to be \"statistically significantly different\" from strain 1."
   ]
  },
  {
   "cell_type": "markdown",
   "metadata": {},
   "source": [
    "Let's check the variances, just to see if there's a difference in that."
   ]
  },
  {
   "cell_type": "code",
   "execution_count": null,
   "metadata": {},
   "outputs": [],
   "source": [
    "pm.forestplot(trace, varnames=[\"var\"], ylabels=ylabels)"
   ]
  },
  {
   "cell_type": "markdown",
   "metadata": {},
   "source": [
    "It is clear that there are a number of strains for whom the variance is similar. Without better information, though, we would not be warranted to impose a similarity structure on the data."
   ]
  },
  {
   "cell_type": "markdown",
   "metadata": {},
   "source": [
    "# Model Check\n",
    "\n",
    "Let's see if we can generate PPC samples that look similar. Admittedly, there's a bit of an art to checking here - there's only 6 measurements per strain, so it's not like we have a lot of data to work with."
   ]
  },
  {
   "cell_type": "code",
   "execution_count": null,
   "metadata": {},
   "outputs": [],
   "source": [
    "samples = pm.sample_ppc(trace, model=best)\n",
    "samples[\"like\"].shape"
   ]
  },
  {
   "cell_type": "code",
   "execution_count": null,
   "metadata": {},
   "outputs": [],
   "source": [
    "# We want indices for each of the samples.\n",
    "indices = dict()\n",
    "for enc, iso in mapping.items():\n",
    "    idxs = list(df[df[\"isolate_enc\"] == enc].index)\n",
    "    indices[iso] = idxs\n",
    "indices"
   ]
  },
  {
   "cell_type": "code",
   "execution_count": null,
   "metadata": {},
   "outputs": [],
   "source": [
    "samples[\"like\"][:, idxs].mean(axis=1)"
   ]
  },
  {
   "cell_type": "code",
   "execution_count": null,
   "metadata": {},
   "outputs": [],
   "source": [
    "# Make PPC plot for one of the groups.\n",
    "fig = plt.figure(figsize=(16, 16))\n",
    "gs = GridSpec(nrows=4, ncols=4)\n",
    "axes = dict()\n",
    "\n",
    "\n",
    "for i, (strain, idxs) in enumerate(indices.items()):\n",
    "    if i > 0:\n",
    "        ax = fig.add_subplot(gs[i], sharex=axes[0])\n",
    "    else:\n",
    "        ax = fig.add_subplot(gs[i])\n",
    "    x, y = ecdf(df.iloc[idxs][\"normalized_measurement\"])\n",
    "    ax.plot(x, y, label=\"data\")\n",
    "    x, y = ecdf(samples[\"like\"][:, idxs].mean(axis=1))\n",
    "    ax.plot(x, y, label=\"ppc\")\n",
    "    ax.set_title(f\"Strain {strain}\")\n",
    "    axes[i] = ax"
   ]
  },
  {
   "cell_type": "markdown",
   "metadata": {},
   "source": [
    "While the PPC samples are generally okay, the StudentT distribution does give some long-tail values, including those that are negative. Given the measurements at hand, negative values would be considered \"absurd\" values. \n",
    "\n",
    "If I had more time, I might experiment with the use of a different likelihood distribution. However, this is a good enough first start model."
   ]
  },
  {
   "cell_type": "code",
   "execution_count": null,
   "metadata": {},
   "outputs": [],
   "source": []
  }
 ],
 "metadata": {
  "kernelspec": {
   "display_name": "bayesian",
   "language": "python",
   "name": "bayesian"
  },
  "language_info": {
   "codemirror_mode": {
    "name": "ipython",
    "version": 3
   },
   "file_extension": ".py",
   "mimetype": "text/x-python",
   "name": "python",
   "nbconvert_exporter": "python",
   "pygments_lexer": "ipython3",
   "version": "3.6.7"
  },
  "toc": {
   "colors": {
    "hover_highlight": "#DAA520",
    "navigate_num": "#000000",
    "navigate_text": "#333333",
    "running_highlight": "#FF0000",
    "selected_highlight": "#FFD700",
    "sidebar_border": "#EEEEEE",
    "wrapper_background": "#FFFFFF"
   },
   "moveMenuLeft": true,
   "nav_menu": {
    "height": "102px",
    "width": "252px"
   },
   "navigate_menu": true,
   "number_sections": true,
   "sideBar": true,
   "threshold": 4,
   "toc_cell": false,
   "toc_section_display": "block",
   "toc_window_display": false,
   "widenNotebook": false
  }
 },
 "nbformat": 4,
 "nbformat_minor": 2
}
