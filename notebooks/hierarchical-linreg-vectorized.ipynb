{
 "cells": [
  {
   "cell_type": "markdown",
   "metadata": {},
   "source": [
    "# Introduction\n",
    "\n",
    "We have two learning tasks that involve the same _kind_ of input data, but don't have exactly aligned samples. In each of the learning tasks we have different numbers of i.i.d. samples, but we don't have overlapping sets necessarily in terms of our input data. One other assumption we have baked into this model is that the weights, while given a set for each task, are shared from a parental prior, hence there is parameter sharing amongst the learning tasks, though not in our usual \"classical\" sense.\n",
    "\n",
    "By appending zero-padding, we should be able to generalize this to multi-task neural network learning with non-overlapping samples. [Thomas Wiecki](https://twiecki.io/blog/2018/08/13/hierarchical_bayesian_neural_network/) has a great blog post on how to do it, though he didn't deal with the \"number of samples\" issue, which I tried to add here."
   ]
  },
  {
   "cell_type": "code",
   "execution_count": 1,
   "metadata": {},
   "outputs": [],
   "source": [
    "import pymc3 as pm\n",
    "import theano.tensor as tt\n",
    "import numpy as np"
   ]
  },
  {
   "cell_type": "code",
   "execution_count": 2,
   "metadata": {},
   "outputs": [
    {
     "data": {
      "text/plain": [
       "array([ 7.39746961, 10.86009347,  7.20584574, 11.46377445])"
      ]
     },
     "execution_count": 2,
     "metadata": {},
     "output_type": "execute_result"
    }
   ],
   "source": [
    "# We start with parental weights of length 4, one for each feature.\n",
    "parental_weights = np.random.normal(loc=10, scale=3, size=(4,))\n",
    "parental_weights"
   ]
  },
  {
   "cell_type": "code",
   "execution_count": 7,
   "metadata": {},
   "outputs": [
    {
     "data": {
      "text/plain": [
       "array([[1.88588455e+00, 1.31813944e+01, 8.22651835e+00, 8.63721277e+00],\n",
       "       [4.82056408e+00, 8.95939307e+00, 6.64797314e+00, 8.25365850e+00],\n",
       "       [9.71400337e+00, 1.57251024e+01, 1.16970272e+01, 1.26767609e+01],\n",
       "       [5.53953141e+00, 9.67520607e+00, 7.79219681e+00, 1.59331361e+01],\n",
       "       [7.41050219e+00, 1.44266250e+01, 5.00608510e+00, 5.23606053e+00],\n",
       "       [1.08427555e+01, 1.31051508e+01, 5.80377754e+00, 8.99606861e+00],\n",
       "       [1.03677548e+01, 1.25972723e+01, 8.11698840e+00, 9.22544439e+00],\n",
       "       [6.34980602e+00, 9.70595355e+00, 9.90397937e+00, 1.30553643e+01],\n",
       "       [5.73078904e+00, 1.07944763e+01, 1.17318910e+01, 1.05008281e+01],\n",
       "       [3.99429426e+00, 9.16010975e+00, 3.78072835e+00, 1.04218423e+01],\n",
       "       [8.89269981e+00, 8.02467118e+00, 6.63258719e+00, 8.78733599e+00],\n",
       "       [9.76217503e+00, 7.75257008e+00, 1.06908788e+01, 9.22313076e+00],\n",
       "       [4.46906679e+00, 1.32300763e+01, 1.07207996e+01, 7.22506716e+00],\n",
       "       [8.45989658e+00, 1.61194699e+01, 8.44508075e+00, 1.30238100e+01],\n",
       "       [7.64078014e+00, 1.40528619e+01, 8.38001586e+00, 1.34473734e+01],\n",
       "       [9.36004014e+00, 9.19755553e+00, 7.61283454e+00, 1.12183532e+01],\n",
       "       [9.44487164e+00, 1.56428365e+01, 4.04666644e-01, 1.15794354e+01],\n",
       "       [7.00223737e+00, 9.32704991e+00, 4.63270686e+00, 1.90431660e+01],\n",
       "       [8.59910335e+00, 8.99983563e+00, 7.69794314e+00, 1.49341573e+01],\n",
       "       [8.13026416e+00, 8.85079742e+00, 6.47741217e+00, 1.28078526e+01],\n",
       "       [5.27080386e+00, 1.11446906e+01, 9.21931335e+00, 1.25943288e+01],\n",
       "       [4.28240477e+00, 1.21663457e+01, 5.48658658e+00, 1.65549202e+01],\n",
       "       [1.25630931e+01, 7.36223328e+00, 6.84642773e+00, 1.15288050e+01],\n",
       "       [8.09722687e+00, 1.26287944e+01, 1.11375612e-02, 1.12342602e+01],\n",
       "       [4.81523065e+00, 1.20256241e+01, 1.23425567e+01, 1.09869623e+01],\n",
       "       [4.56334824e+00, 1.81276491e+01, 9.13028004e+00, 1.36408893e+01],\n",
       "       [1.29424027e+01, 1.07198346e+01, 1.94776580e+00, 1.42847309e+01],\n",
       "       [6.14031345e+00, 1.55357437e+01, 1.11139737e+01, 1.20660233e+01],\n",
       "       [5.22334906e+00, 1.55738536e+01, 2.97874816e+00, 1.21709723e+01],\n",
       "       [1.07581974e+01, 9.28088484e+00, 7.11682022e+00, 1.42743863e+01],\n",
       "       [7.55238583e+00, 7.95700369e+00, 7.84478403e+00, 7.53284830e+00],\n",
       "       [9.49431159e+00, 5.88799850e+00, 3.97319844e+00, 1.14105567e+01],\n",
       "       [5.04980201e+00, 1.26528908e+01, 3.81219879e+00, 1.03436594e+01],\n",
       "       [4.95418779e+00, 1.05127703e+01, 8.50179494e+00, 1.02777242e+01],\n",
       "       [7.87967700e+00, 1.61504805e+01, 2.36842747e+00, 1.40932549e+01],\n",
       "       [5.56100982e+00, 9.81733289e+00, 6.24152289e+00, 1.40581416e+01],\n",
       "       [9.27297106e+00, 7.77908395e+00, 8.28068013e+00, 1.20503022e+01],\n",
       "       [7.66801436e+00, 1.33344758e+01, 7.08020710e+00, 9.12626730e+00],\n",
       "       [9.64819047e+00, 1.03959667e+01, 7.62839933e+00, 1.39829530e+01],\n",
       "       [7.85024030e+00, 1.01071531e+01, 9.38279961e+00, 1.01758944e+01],\n",
       "       [5.49036277e+00, 1.37045991e+01, 7.04563289e+00, 1.39464957e+01],\n",
       "       [9.59702835e+00, 1.04123063e+01, 6.89201600e+00, 1.15503839e+01],\n",
       "       [4.64723744e+00, 1.19323278e+01, 3.91147578e+00, 1.34449451e+01],\n",
       "       [1.05594562e+01, 1.81972410e+01, 4.52038411e+00, 6.45802110e+00],\n",
       "       [3.39982890e+00, 1.28861914e+01, 6.01044416e+00, 7.75080292e+00],\n",
       "       [1.05813217e+01, 1.46946189e+01, 2.40209313e+00, 1.39688678e+01],\n",
       "       [7.63313789e+00, 1.69610182e+01, 4.08145721e+00, 1.19667860e+01],\n",
       "       [9.06217312e+00, 1.74238526e+01, 6.87643926e+00, 1.31763347e+01],\n",
       "       [1.08933881e+01, 7.65332511e+00, 8.42569127e+00, 1.74692852e+01],\n",
       "       [5.64390986e+00, 1.07441130e+01, 1.32379832e+01, 7.08006510e+00]])"
      ]
     },
     "execution_count": 7,
     "metadata": {},
     "output_type": "execute_result"
    }
   ],
   "source": [
    "# We'll now generate new weights based on location=parental_weights,\n",
    "# and scale=1, but one for each learning task (here there are 15 in total)\n",
    "n_samps = 100\n",
    "n_tasks = 50\n",
    "n_weights = 4\n",
    "\n",
    "child_weights = np.random.normal(loc=parental_weights, scale=3, size=(n_tasks, n_weights))\n",
    "child_weights"
   ]
  },
  {
   "cell_type": "markdown",
   "metadata": {},
   "source": [
    "These are the true weights of the system.\n",
    "\n",
    "We are now going to attempt to learn them in a Bayesian fashion."
   ]
  },
  {
   "cell_type": "code",
   "execution_count": 8,
   "metadata": {},
   "outputs": [],
   "source": [
    "data = np.random.normal(loc=3, scale=4, size=(n_tasks, n_samps, n_weights))\n",
    "\n",
    "# We are going to apply a mask that nulls out about 70% of the values in the data matrix,\n",
    "# and replaces them with zeros.\n",
    "null_mask = np.repeat(np.random.binomial(n=1, p=0.3, size=(n_samps, 1)), 4, axis=1)\n",
    "data = data * null_mask"
   ]
  },
  {
   "cell_type": "code",
   "execution_count": 9,
   "metadata": {},
   "outputs": [
    {
     "data": {
      "text/plain": [
       "((50, 100, 4), (50, 4))"
      ]
     },
     "execution_count": 9,
     "metadata": {},
     "output_type": "execute_result"
    }
   ],
   "source": [
    "data.shape, child_weights.shape"
   ]
  },
  {
   "cell_type": "markdown",
   "metadata": {},
   "source": [
    "Let's now generate the $y$s. As long as they are labelled as zero where the inputs are also labelled as zero, then we should be in an ok regime. \n",
    "\n",
    "By definition of the math at hand, they will be zero because we don't have any $X$ information to propagate forward (they are set to zero as inputs), so in this simulation setting, we are ok."
   ]
  },
  {
   "cell_type": "code",
   "execution_count": 10,
   "metadata": {},
   "outputs": [],
   "source": [
    "y = np.einsum(\"ijk, ik -> ij\", data, child_weights)\n",
    "y = y + np.random.normal(loc=0, scale=3, size=y.shape)"
   ]
  },
  {
   "cell_type": "code",
   "execution_count": 11,
   "metadata": {},
   "outputs": [
    {
     "data": {
      "text/plain": [
       "(50, 100)"
      ]
     },
     "execution_count": 11,
     "metadata": {},
     "output_type": "execute_result"
    }
   ],
   "source": [
    "y.shape"
   ]
  },
  {
   "cell_type": "markdown",
   "metadata": {},
   "source": [
    "We are now going to write a hierarchical linear regression model that handles this particular case of imbalanced number of samples.\n",
    "\n",
    "If we are able to recover back the original weights, then zero-padding could be a very powerful technique to deal with multiple learning tasks that also have non-equal numbers of samples that also have non-overlapping sample indices."
   ]
  },
  {
   "cell_type": "code",
   "execution_count": 12,
   "metadata": {},
   "outputs": [
    {
     "data": {
      "text/plain": [
       "(50, 100, 4)"
      ]
     },
     "execution_count": 12,
     "metadata": {},
     "output_type": "execute_result"
    }
   ],
   "source": [
    "data.shape"
   ]
  },
  {
   "cell_type": "code",
   "execution_count": 13,
   "metadata": {},
   "outputs": [
    {
     "data": {
      "text/plain": [
       "(50, 4)"
      ]
     },
     "execution_count": 13,
     "metadata": {},
     "output_type": "execute_result"
    }
   ],
   "source": [
    "child_weights.shape"
   ]
  },
  {
   "cell_type": "code",
   "execution_count": 14,
   "metadata": {},
   "outputs": [
    {
     "data": {
      "text/plain": [
       "BatchedDot.0"
      ]
     },
     "execution_count": 14,
     "metadata": {},
     "output_type": "execute_result"
    }
   ],
   "source": [
    "tt.batched_dot(data, child_weights)"
   ]
  },
  {
   "cell_type": "code",
   "execution_count": 15,
   "metadata": {},
   "outputs": [
    {
     "data": {
      "text/plain": [
       "(50, 100, 4)"
      ]
     },
     "execution_count": 15,
     "metadata": {},
     "output_type": "execute_result"
    }
   ],
   "source": [
    "data.shape"
   ]
  },
  {
   "cell_type": "code",
   "execution_count": 16,
   "metadata": {},
   "outputs": [
    {
     "data": {
      "text/plain": [
       "array([[ 2.15677804e+00, -1.44648044e+00,  3.51543070e+00, ...,\n",
       "         9.73690989e+01, -2.44901575e+00, -1.20493168e+00],\n",
       "       [ 8.78838564e-02, -2.65644547e+00,  2.86785280e+00, ...,\n",
       "         1.31203076e+02,  5.31745988e+00,  2.89468406e+00],\n",
       "       [-3.47832598e+00, -4.87845749e-01,  3.70907724e+00, ...,\n",
       "         1.45353111e+02,  6.83234225e-01, -1.75255584e+00],\n",
       "       ...,\n",
       "       [ 6.17317822e+00, -1.89882128e+00, -2.33811245e+00, ...,\n",
       "         1.79808554e+02,  5.84767589e-02,  2.20340092e+00],\n",
       "       [ 2.38162856e-01, -9.09623765e+00, -3.72147233e-02, ...,\n",
       "         8.67388689e+01, -1.32916462e+00, -4.14104754e+00],\n",
       "       [-2.25771748e+00, -1.18829771e+00, -1.30000751e+00, ...,\n",
       "         2.01384277e+02, -4.44522251e+00, -5.29395634e+00]])"
      ]
     },
     "execution_count": 16,
     "metadata": {},
     "output_type": "execute_result"
    }
   ],
   "source": [
    "y"
   ]
  },
  {
   "cell_type": "code",
   "execution_count": 17,
   "metadata": {},
   "outputs": [],
   "source": [
    "with pm.Model() as hierarchical_linear_model:\n",
    "    w_parent = pm.Normal(\"w_parent\", mu=0, sd=1, shape=(n_weights,))\n",
    "\n",
    "    # Broadcasting will give us 4 child weights drawn from w_parent,\n",
    "    # I think.\n",
    "    w_child = pm.Normal(\"w_child\", mu=w_parent, sd=1, shape=(n_tasks, n_weights))\n",
    "\n",
    "    sd = pm.HalfCauchy(\"sd\", beta=10)\n",
    "\n",
    "    # mu = pm.Deterministic(\"mu\", np.einsum('ijk, kj -> ij', data, w_child))\n",
    "    mu = pm.Deterministic(\"mu\", tt.batched_dot(data, w_child))\n",
    "    like = pm.Normal(\"like\", mu=mu, sd=sd, observed=y)"
   ]
  },
  {
   "cell_type": "code",
   "execution_count": 18,
   "metadata": {},
   "outputs": [
    {
     "name": "stderr",
     "output_type": "stream",
     "text": [
      "Average Loss = 13,932: 100%|██████████| 100000/100000 [00:28<00:00, 3523.26it/s]  \n",
      "Finished [100%]: Average Loss = 13,932\n"
     ]
    }
   ],
   "source": [
    "with hierarchical_linear_model:\n",
    "    # trace = pm.sample(2000, cores=1)\n",
    "    approx = pm.fit(100000)\n",
    "    trace = approx.sample(2000)"
   ]
  },
  {
   "cell_type": "code",
   "execution_count": 19,
   "metadata": {},
   "outputs": [
    {
     "data": {
      "text/plain": [
       "array([[[ 1.967416 , 13.257001 ,  8.329166 ,  8.628999 ],\n",
       "        [ 4.690891 ,  9.136066 ,  6.5901804,  8.541647 ],\n",
       "        [ 9.432199 , 16.021608 , 11.593629 , 12.8588295],\n",
       "        ...,\n",
       "        [ 8.922573 , 17.37885  ,  6.6801944, 12.969812 ],\n",
       "        [10.952263 ,  7.48547  ,  8.49139  , 17.341566 ],\n",
       "        [ 5.3707466, 10.75534  , 13.190498 ,  7.2898607]],\n",
       "\n",
       "       [[ 2.0008464, 12.867337 ,  8.127722 ,  8.192062 ],\n",
       "        [ 4.8743544,  8.939325 ,  6.4923787,  8.380577 ],\n",
       "        [ 9.42855  , 15.812643 , 11.29188  , 12.392779 ],\n",
       "        ...,\n",
       "        [ 9.024921 , 17.672672 ,  6.554825 , 12.875198 ],\n",
       "        [10.662271 ,  7.403108 ,  8.358003 , 17.422035 ],\n",
       "        [ 5.447894 , 10.844706 , 13.290672 ,  7.314574 ]],\n",
       "\n",
       "       [[ 2.1692216, 12.891603 ,  8.235776 ,  8.337997 ],\n",
       "        [ 4.762043 ,  9.181348 ,  6.5408077,  8.433302 ],\n",
       "        [ 9.303247 , 15.811275 , 11.279292 , 12.812595 ],\n",
       "        ...,\n",
       "        [ 8.897922 , 17.53659  ,  6.720168 , 12.850064 ],\n",
       "        [10.760367 ,  7.9532228,  8.33266  , 17.75618  ],\n",
       "        [ 5.1965547, 10.621246 , 13.088403 ,  7.0224595]],\n",
       "\n",
       "       ...,\n",
       "\n",
       "       [[ 2.1222434, 13.08074  ,  8.462703 ,  8.483949 ],\n",
       "        [ 4.8250103,  9.077078 ,  6.4740276,  8.163396 ],\n",
       "        [ 9.428105 , 15.770996 , 11.563012 , 12.60623  ],\n",
       "        ...,\n",
       "        [ 9.04662  , 17.412548 ,  6.577879 , 12.735529 ],\n",
       "        [10.930248 ,  7.6925187,  8.40464  , 17.427677 ],\n",
       "        [ 5.337737 , 10.736183 , 12.989239 ,  6.9776416]],\n",
       "\n",
       "       [[ 1.9471412, 13.151848 ,  8.288933 ,  8.768494 ],\n",
       "        [ 4.655391 ,  8.889685 ,  6.463008 ,  8.312041 ],\n",
       "        [ 9.578255 , 15.971829 , 11.698773 , 12.742352 ],\n",
       "        ...,\n",
       "        [ 8.880437 , 17.59258  ,  6.6831036, 13.415305 ],\n",
       "        [10.847864 ,  7.614746 ,  8.356776 , 17.459736 ],\n",
       "        [ 5.5703826, 10.867825 , 12.980593 ,  7.2354183]],\n",
       "\n",
       "       [[ 2.0240443, 12.886905 ,  8.488635 ,  8.571256 ],\n",
       "        [ 4.756553 ,  8.988675 ,  6.5142803,  8.380087 ],\n",
       "        [ 9.417693 , 16.011864 , 11.368001 , 12.846888 ],\n",
       "        ...,\n",
       "        [ 8.747053 , 17.621344 ,  6.693225 , 12.876673 ],\n",
       "        [10.827231 ,  7.83648  ,  8.410706 , 17.58811  ],\n",
       "        [ 5.531383 , 10.778723 , 13.163034 ,  7.216434 ]]], dtype=float32)"
      ]
     },
     "execution_count": 19,
     "metadata": {},
     "output_type": "execute_result"
    }
   ],
   "source": [
    "trace[\"w_child\"]"
   ]
  },
  {
   "cell_type": "code",
   "execution_count": 20,
   "metadata": {},
   "outputs": [
    {
     "data": {
      "text/plain": [
       "array([ 7.3662996, 11.561948 ,  6.751883 , 11.460024 ], dtype=float32)"
      ]
     },
     "execution_count": 20,
     "metadata": {},
     "output_type": "execute_result"
    }
   ],
   "source": [
    "trace[\"w_parent\"].mean(axis=0)"
   ]
  },
  {
   "cell_type": "code",
   "execution_count": 21,
   "metadata": {},
   "outputs": [
    {
     "data": {
      "text/plain": [
       "array([ 7.39746961, 10.86009347,  7.20584574, 11.46377445])"
      ]
     },
     "execution_count": 21,
     "metadata": {},
     "output_type": "execute_result"
    }
   ],
   "source": [
    "parental_weights"
   ]
  },
  {
   "cell_type": "markdown",
   "metadata": {},
   "source": [
    "We're close!"
   ]
  },
  {
   "cell_type": "code",
   "execution_count": 22,
   "metadata": {
    "scrolled": true
   },
   "outputs": [
    {
     "data": {
      "text/plain": [
       "array([[ 2.0051434 , 12.944838  ,  8.2912655 ,  8.586497  ],\n",
       "       [ 4.756403  ,  8.925725  ,  6.6113305 ,  8.460448  ],\n",
       "       [ 9.413604  , 15.822277  , 11.482415  , 12.661848  ],\n",
       "       [ 5.6023602 ,  9.456425  ,  7.9047804 , 15.638022  ],\n",
       "       [ 7.528602  , 14.173123  ,  4.9499645 ,  5.686126  ],\n",
       "       [10.823394  , 12.988305  ,  5.908422  ,  9.050325  ],\n",
       "       [10.30909   , 12.452925  ,  8.014533  ,  9.386819  ],\n",
       "       [ 6.428059  ,  9.491078  ,  9.88687   , 12.950765  ],\n",
       "       [ 5.7104115 , 10.822237  , 11.75448   , 10.64193   ],\n",
       "       [ 3.731501  ,  9.428005  ,  3.5264528 , 10.390358  ],\n",
       "       [ 8.806088  ,  8.255748  ,  6.71134   ,  8.708556  ],\n",
       "       [ 9.853503  ,  7.764982  , 10.56799   ,  9.401294  ],\n",
       "       [ 4.5764036 , 13.0786295 , 10.492825  ,  7.3955035 ],\n",
       "       [ 8.414475  , 15.807961  ,  8.392618  , 13.053631  ],\n",
       "       [ 7.4781766 , 13.981478  ,  8.398752  , 13.604348  ],\n",
       "       [ 9.324352  ,  9.2249975 ,  7.3410363 , 11.242141  ],\n",
       "       [ 9.289938  , 15.396698  ,  0.62721235, 11.798811  ],\n",
       "       [ 6.8603597 ,  9.631307  ,  4.7008877 , 18.986986  ],\n",
       "       [ 8.801599  ,  9.028496  ,  7.511632  , 15.019876  ],\n",
       "       [ 7.999022  ,  8.639083  ,  6.5017967 , 13.087723  ],\n",
       "       [ 5.26132   , 11.164874  ,  9.3392    , 12.320155  ],\n",
       "       [ 4.240034  , 12.244276  ,  5.471288  , 16.400974  ],\n",
       "       [12.387982  ,  7.6269484 ,  6.9220695 , 11.368726  ],\n",
       "       [ 8.090092  , 12.590324  , -0.14079684, 11.3711605 ],\n",
       "       [ 5.020997  , 11.880247  , 12.0078535 , 11.080316  ],\n",
       "       [ 4.721894  , 17.836384  ,  9.103418  , 13.584315  ],\n",
       "       [12.8339205 , 10.888686  ,  1.7140507 , 14.422292  ],\n",
       "       [ 6.3042073 , 15.63395   , 10.98836   , 11.915051  ],\n",
       "       [ 5.306814  , 15.4374485 ,  3.0425096 , 12.18013   ],\n",
       "       [10.861297  ,  9.301666  ,  7.0398445 , 14.260713  ],\n",
       "       [ 7.5164676 ,  7.791431  ,  7.8848057 ,  7.810462  ],\n",
       "       [ 9.310306  ,  5.7947645 ,  4.132367  , 11.479676  ],\n",
       "       [ 5.1278753 , 12.497191  ,  3.8398156 , 10.291101  ],\n",
       "       [ 5.098807  , 10.29646   ,  8.697305  , 10.248279  ],\n",
       "       [ 7.908158  , 16.044407  ,  2.4615645 , 14.030326  ],\n",
       "       [ 5.576673  ,  9.77009   ,  6.2783847 , 14.124123  ],\n",
       "       [ 9.283098  ,  7.822552  ,  8.360424  , 11.907545  ],\n",
       "       [ 7.7861977 , 13.051879  ,  7.0648885 ,  9.216855  ],\n",
       "       [ 9.771801  , 10.345507  ,  7.6741853 , 13.89859   ],\n",
       "       [ 7.934717  ,  9.845109  ,  9.489788  , 10.171763  ],\n",
       "       [ 5.8058176 , 13.776291  ,  7.086677  , 13.887729  ],\n",
       "       [ 9.4450865 , 10.430838  ,  6.9916778 , 11.6173315 ],\n",
       "       [ 4.74416   , 11.9544115 ,  4.0306177 , 13.18614   ],\n",
       "       [10.219182  , 17.964725  ,  4.723395  ,  6.6386395 ],\n",
       "       [ 3.4285672 , 12.847369  ,  5.928931  ,  7.7706127 ],\n",
       "       [10.715848  , 14.478933  ,  2.390264  , 13.900823  ],\n",
       "       [ 7.703277  , 16.979212  ,  3.9351983 , 12.0206175 ],\n",
       "       [ 8.90661   , 17.456568  ,  6.6435475 , 13.046078  ],\n",
       "       [10.816469  ,  7.7474847 ,  8.347847  , 17.472998  ],\n",
       "       [ 5.459159  , 10.757861  , 13.172209  ,  7.2355633 ]],\n",
       "      dtype=float32)"
      ]
     },
     "execution_count": 22,
     "metadata": {},
     "output_type": "execute_result"
    }
   ],
   "source": [
    "trace[\"w_child\"].mean(axis=0)"
   ]
  },
  {
   "cell_type": "code",
   "execution_count": 23,
   "metadata": {
    "scrolled": true
   },
   "outputs": [
    {
     "data": {
      "text/plain": [
       "array([[1.88588455e+00, 1.31813944e+01, 8.22651835e+00, 8.63721277e+00],\n",
       "       [4.82056408e+00, 8.95939307e+00, 6.64797314e+00, 8.25365850e+00],\n",
       "       [9.71400337e+00, 1.57251024e+01, 1.16970272e+01, 1.26767609e+01],\n",
       "       [5.53953141e+00, 9.67520607e+00, 7.79219681e+00, 1.59331361e+01],\n",
       "       [7.41050219e+00, 1.44266250e+01, 5.00608510e+00, 5.23606053e+00],\n",
       "       [1.08427555e+01, 1.31051508e+01, 5.80377754e+00, 8.99606861e+00],\n",
       "       [1.03677548e+01, 1.25972723e+01, 8.11698840e+00, 9.22544439e+00],\n",
       "       [6.34980602e+00, 9.70595355e+00, 9.90397937e+00, 1.30553643e+01],\n",
       "       [5.73078904e+00, 1.07944763e+01, 1.17318910e+01, 1.05008281e+01],\n",
       "       [3.99429426e+00, 9.16010975e+00, 3.78072835e+00, 1.04218423e+01],\n",
       "       [8.89269981e+00, 8.02467118e+00, 6.63258719e+00, 8.78733599e+00],\n",
       "       [9.76217503e+00, 7.75257008e+00, 1.06908788e+01, 9.22313076e+00],\n",
       "       [4.46906679e+00, 1.32300763e+01, 1.07207996e+01, 7.22506716e+00],\n",
       "       [8.45989658e+00, 1.61194699e+01, 8.44508075e+00, 1.30238100e+01],\n",
       "       [7.64078014e+00, 1.40528619e+01, 8.38001586e+00, 1.34473734e+01],\n",
       "       [9.36004014e+00, 9.19755553e+00, 7.61283454e+00, 1.12183532e+01],\n",
       "       [9.44487164e+00, 1.56428365e+01, 4.04666644e-01, 1.15794354e+01],\n",
       "       [7.00223737e+00, 9.32704991e+00, 4.63270686e+00, 1.90431660e+01],\n",
       "       [8.59910335e+00, 8.99983563e+00, 7.69794314e+00, 1.49341573e+01],\n",
       "       [8.13026416e+00, 8.85079742e+00, 6.47741217e+00, 1.28078526e+01],\n",
       "       [5.27080386e+00, 1.11446906e+01, 9.21931335e+00, 1.25943288e+01],\n",
       "       [4.28240477e+00, 1.21663457e+01, 5.48658658e+00, 1.65549202e+01],\n",
       "       [1.25630931e+01, 7.36223328e+00, 6.84642773e+00, 1.15288050e+01],\n",
       "       [8.09722687e+00, 1.26287944e+01, 1.11375612e-02, 1.12342602e+01],\n",
       "       [4.81523065e+00, 1.20256241e+01, 1.23425567e+01, 1.09869623e+01],\n",
       "       [4.56334824e+00, 1.81276491e+01, 9.13028004e+00, 1.36408893e+01],\n",
       "       [1.29424027e+01, 1.07198346e+01, 1.94776580e+00, 1.42847309e+01],\n",
       "       [6.14031345e+00, 1.55357437e+01, 1.11139737e+01, 1.20660233e+01],\n",
       "       [5.22334906e+00, 1.55738536e+01, 2.97874816e+00, 1.21709723e+01],\n",
       "       [1.07581974e+01, 9.28088484e+00, 7.11682022e+00, 1.42743863e+01],\n",
       "       [7.55238583e+00, 7.95700369e+00, 7.84478403e+00, 7.53284830e+00],\n",
       "       [9.49431159e+00, 5.88799850e+00, 3.97319844e+00, 1.14105567e+01],\n",
       "       [5.04980201e+00, 1.26528908e+01, 3.81219879e+00, 1.03436594e+01],\n",
       "       [4.95418779e+00, 1.05127703e+01, 8.50179494e+00, 1.02777242e+01],\n",
       "       [7.87967700e+00, 1.61504805e+01, 2.36842747e+00, 1.40932549e+01],\n",
       "       [5.56100982e+00, 9.81733289e+00, 6.24152289e+00, 1.40581416e+01],\n",
       "       [9.27297106e+00, 7.77908395e+00, 8.28068013e+00, 1.20503022e+01],\n",
       "       [7.66801436e+00, 1.33344758e+01, 7.08020710e+00, 9.12626730e+00],\n",
       "       [9.64819047e+00, 1.03959667e+01, 7.62839933e+00, 1.39829530e+01],\n",
       "       [7.85024030e+00, 1.01071531e+01, 9.38279961e+00, 1.01758944e+01],\n",
       "       [5.49036277e+00, 1.37045991e+01, 7.04563289e+00, 1.39464957e+01],\n",
       "       [9.59702835e+00, 1.04123063e+01, 6.89201600e+00, 1.15503839e+01],\n",
       "       [4.64723744e+00, 1.19323278e+01, 3.91147578e+00, 1.34449451e+01],\n",
       "       [1.05594562e+01, 1.81972410e+01, 4.52038411e+00, 6.45802110e+00],\n",
       "       [3.39982890e+00, 1.28861914e+01, 6.01044416e+00, 7.75080292e+00],\n",
       "       [1.05813217e+01, 1.46946189e+01, 2.40209313e+00, 1.39688678e+01],\n",
       "       [7.63313789e+00, 1.69610182e+01, 4.08145721e+00, 1.19667860e+01],\n",
       "       [9.06217312e+00, 1.74238526e+01, 6.87643926e+00, 1.31763347e+01],\n",
       "       [1.08933881e+01, 7.65332511e+00, 8.42569127e+00, 1.74692852e+01],\n",
       "       [5.64390986e+00, 1.07441130e+01, 1.32379832e+01, 7.08006510e+00]])"
      ]
     },
     "execution_count": 23,
     "metadata": {},
     "output_type": "execute_result"
    }
   ],
   "source": [
    "child_weights"
   ]
  },
  {
   "cell_type": "code",
   "execution_count": 27,
   "metadata": {},
   "outputs": [
    {
     "data": {
      "text/plain": [
       "Text(0, 0.5, 'fitted weight value')"
      ]
     },
     "execution_count": 27,
     "metadata": {},
     "output_type": "execute_result"
    },
    {
     "data": {
      "image/png": "[encoded data removed]",
      "text/plain": [
       "<Figure size 432x288 with 1 Axes>"
      ]
     },
     "metadata": {
      "needs_background": "light"
     },
     "output_type": "display_data"
    }
   ],
   "source": [
    "import matplotlib.pyplot as plt\n",
    "\n",
    "plt.scatter(child_weights.ravel(), trace[\"w_child\"].mean(axis=0).ravel())\n",
    "plt.xlabel(\"actual weight value\")\n",
    "plt.ylabel(\"fitted weight value\")"
   ]
  },
  {
   "cell_type": "code",
   "execution_count": 24,
   "metadata": {},
   "outputs": [
    {
     "data": {
      "text/plain": [
       "array([[0.14306226, 0.12947476, 0.11812667, 0.19399412],\n",
       "       [0.09389646, 0.14685962, 0.13380034, 0.12360693],\n",
       "       [0.13188644, 0.1345797 , 0.13485426, 0.11405891],\n",
       "       [0.15594204, 0.13806307, 0.11253026, 0.11626544],\n",
       "       [0.12601078, 0.13728812, 0.12075225, 0.1446327 ],\n",
       "       [0.11005952, 0.12391454, 0.10360434, 0.12318951],\n",
       "       [0.1497308 , 0.12567411, 0.11944677, 0.11589745],\n",
       "       [0.130474  , 0.14298798, 0.11725897, 0.11386009],\n",
       "       [0.13041745, 0.12613185, 0.12529357, 0.13069104],\n",
       "       [0.13952228, 0.1319082 , 0.16522062, 0.13029064],\n",
       "       [0.11604515, 0.13416022, 0.12118381, 0.13637666],\n",
       "       [0.11043026, 0.11396095, 0.11776066, 0.15543215],\n",
       "       [0.15274225, 0.16998142, 0.1718521 , 0.14279863],\n",
       "       [0.14085582, 0.15778421, 0.15363741, 0.12155973],\n",
       "       [0.16090673, 0.13934565, 0.13018191, 0.12999128],\n",
       "       [0.15716586, 0.15683798, 0.15898661, 0.12149709],\n",
       "       [0.1319872 , 0.15585274, 0.13117617, 0.12205315],\n",
       "       [0.1252604 , 0.12869829, 0.12527329, 0.10838436],\n",
       "       [0.12455896, 0.1402441 , 0.15344076, 0.09406332],\n",
       "       [0.11822852, 0.11185886, 0.14298266, 0.15579095],\n",
       "       [0.13153893, 0.11974983, 0.12595361, 0.14030255],\n",
       "       [0.13597733, 0.19388242, 0.12240302, 0.12611014],\n",
       "       [0.1275848 , 0.12005943, 0.12156044, 0.14639072],\n",
       "       [0.15755501, 0.12997739, 0.11940268, 0.12949795],\n",
       "       [0.15899292, 0.14635372, 0.14502074, 0.11353181],\n",
       "       [0.15524094, 0.1283158 , 0.15527491, 0.12905519],\n",
       "       [0.13224688, 0.13122451, 0.12859848, 0.14420058],\n",
       "       [0.14016622, 0.1295008 , 0.15179189, 0.12508182],\n",
       "       [0.131867  , 0.09047166, 0.14095184, 0.11969724],\n",
       "       [0.11047237, 0.13846867, 0.1299308 , 0.12051695],\n",
       "       [0.111173  , 0.13830128, 0.10369161, 0.12206941],\n",
       "       [0.14426577, 0.11144457, 0.11869959, 0.12081632],\n",
       "       [0.1198875 , 0.11181641, 0.17506719, 0.11937602],\n",
       "       [0.13837107, 0.1194779 , 0.11780332, 0.10379994],\n",
       "       [0.11339969, 0.11048757, 0.11297803, 0.15338413],\n",
       "       [0.14290936, 0.10786855, 0.11418124, 0.15624341],\n",
       "       [0.13889802, 0.13310792, 0.11720347, 0.15099743],\n",
       "       [0.10825644, 0.14185855, 0.11933141, 0.15577304],\n",
       "       [0.14062104, 0.12909502, 0.12277739, 0.09553681],\n",
       "       [0.13423023, 0.13639629, 0.13463148, 0.13466166],\n",
       "       [0.15389846, 0.13368306, 0.11173743, 0.12525783],\n",
       "       [0.12246857, 0.10749853, 0.11634671, 0.14027525],\n",
       "       [0.12054042, 0.09359206, 0.13049181, 0.144221  ],\n",
       "       [0.12045363, 0.1127767 , 0.11330602, 0.13659827],\n",
       "       [0.1160078 , 0.14165232, 0.14737399, 0.12080938],\n",
       "       [0.14167303, 0.13626932, 0.11320335, 0.11582682],\n",
       "       [0.15378569, 0.10439257, 0.12783179, 0.11503246],\n",
       "       [0.14798096, 0.13724521, 0.14824376, 0.16333525],\n",
       "       [0.1277135 , 0.13596925, 0.09746461, 0.12630437],\n",
       "       [0.14616242, 0.13137949, 0.12597091, 0.13154027]], dtype=float32)"
      ]
     },
     "execution_count": 24,
     "metadata": {},
     "output_type": "execute_result"
    }
   ],
   "source": [
    "trace[\"w_child\"].std(axis=0)"
   ]
  },
  {
   "cell_type": "markdown",
   "metadata": {},
   "source": [
    "OK! I think that this works, just that something is not right with NUTS because of gradient issues (we get zeros on diagonal of mass matrix). I'm going to show this experiment to the PyMC devs to see what I might be doing wrong."
   ]
  },
  {
   "cell_type": "code",
   "execution_count": null,
   "metadata": {},
   "outputs": [],
   "source": []
  }
 ],
 "metadata": {
  "kernelspec": {
   "display_name": "bayesian",
   "language": "python",
   "name": "bayesian"
  },
  "language_info": {
   "codemirror_mode": {
    "name": "ipython",
    "version": 3
   },
   "file_extension": ".py",
   "mimetype": "text/x-python",
   "name": "python",
   "nbconvert_exporter": "python",
   "pygments_lexer": "ipython3",
   "version": "3.6.9"
  }
 },
 "nbformat": 4,
 "nbformat_minor": 4
}
