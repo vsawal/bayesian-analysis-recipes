{
 "cells": [
  {
   "cell_type": "code",
   "execution_count": 2,
   "metadata": {},
   "outputs": [
    {
     "name": "stdout",
     "output_type": "stream",
     "text": [
      "The autoreload extension is already loaded. To reload it, use:\n",
      "  %reload_ext autoreload\n"
     ]
    }
   ],
   "source": [
    "import pandas as pd\n",
    "import pymc3 as pm\n",
    "import numpy as np\n",
    "import matplotlib.pyplot as plt\n",
    "import war\n",
    "\n",
    "%load_ext autoreload\n",
    "%autoreload 2\n",
    "%matplotlib inline\n",
    "%config InlineBackend.figure_format = 'retina'"
   ]
  },
  {
   "cell_type": "markdown",
   "metadata": {},
   "source": [
    "# Analysis\n",
    "\n",
    "Microbiome composition can be shifted by diet. The experiments that have backed this conclusion involve randomly assigning mice into control and case groups, feeding them different diets, and then quantifying the composition of the microbiota in the gut. I want to know whether we are able to use a Bayesian Dirichlet-Multinomial model to quantify the uncertainty surrounding the measured proportions. "
   ]
  },
  {
   "cell_type": "code",
   "execution_count": 5,
   "metadata": {},
   "outputs": [
    {
     "data": {
      "text/html": [
       "<div>\n",
       "<style>\n",
       "    .dataframe thead tr:only-child th {\n",
       "        text-align: right;\n",
       "    }\n",
       "\n",
       "    .dataframe thead th {\n",
       "        text-align: left;\n",
       "    }\n",
       "\n",
       "    .dataframe tbody tr th {\n",
       "        vertical-align: top;\n",
       "    }\n",
       "</style>\n",
       "<table border=\"1\" class=\"dataframe\">\n",
       "  <thead>\n",
       "    <tr style=\"text-align: right;\">\n",
       "      <th></th>\n",
       "      <th>Diet</th>\n",
       "      <th>Source</th>\n",
       "      <th>Donor</th>\n",
       "      <th>CollectionMet</th>\n",
       "      <th>Sex</th>\n",
       "      <th>OTU0</th>\n",
       "      <th>OTU1</th>\n",
       "      <th>OTU2</th>\n",
       "      <th>OTU3</th>\n",
       "      <th>OTU4</th>\n",
       "      <th>...</th>\n",
       "      <th>OTU6686</th>\n",
       "      <th>OTU6687</th>\n",
       "      <th>OTU6688</th>\n",
       "      <th>OTU6689</th>\n",
       "      <th>OTU6690</th>\n",
       "      <th>OTU6691</th>\n",
       "      <th>OTU6692</th>\n",
       "      <th>OTU6693</th>\n",
       "      <th>OTU6694</th>\n",
       "      <th>OTU6695</th>\n",
       "    </tr>\n",
       "  </thead>\n",
       "  <tbody>\n",
       "    <tr>\n",
       "      <th>0</th>\n",
       "      <td>0</td>\n",
       "      <td>0</td>\n",
       "      <td>0</td>\n",
       "      <td>0</td>\n",
       "      <td>0</td>\n",
       "      <td>1.560000e-11</td>\n",
       "      <td>4.720000e-11</td>\n",
       "      <td>1.230000e-11</td>\n",
       "      <td>4.520000e-11</td>\n",
       "      <td>2.720000e-11</td>\n",
       "      <td>...</td>\n",
       "      <td>6.660000e-11</td>\n",
       "      <td>3.020000e-11</td>\n",
       "      <td>4.420000e-11</td>\n",
       "      <td>7.310000e-11</td>\n",
       "      <td>7.770000e-11</td>\n",
       "      <td>4.330000e-11</td>\n",
       "      <td>5.440000e-11</td>\n",
       "      <td>8.720000e-11</td>\n",
       "      <td>2.710000e-11</td>\n",
       "      <td>4.970000e-11</td>\n",
       "    </tr>\n",
       "    <tr>\n",
       "      <th>1</th>\n",
       "      <td>0</td>\n",
       "      <td>1</td>\n",
       "      <td>0</td>\n",
       "      <td>0</td>\n",
       "      <td>0</td>\n",
       "      <td>2.360000e-11</td>\n",
       "      <td>9.530000e-11</td>\n",
       "      <td>3.330000e-11</td>\n",
       "      <td>2.670000e-11</td>\n",
       "      <td>2.020000e-11</td>\n",
       "      <td>...</td>\n",
       "      <td>3.260000e-12</td>\n",
       "      <td>5.390000e-11</td>\n",
       "      <td>4.730000e-11</td>\n",
       "      <td>2.600000e-11</td>\n",
       "      <td>4.240000e-11</td>\n",
       "      <td>6.550000e-11</td>\n",
       "      <td>4.850000e-11</td>\n",
       "      <td>8.380000e-11</td>\n",
       "      <td>3.500000e-11</td>\n",
       "      <td>7.620000e-11</td>\n",
       "    </tr>\n",
       "    <tr>\n",
       "      <th>2</th>\n",
       "      <td>0</td>\n",
       "      <td>2</td>\n",
       "      <td>0</td>\n",
       "      <td>1</td>\n",
       "      <td>0</td>\n",
       "      <td>6.770000e-11</td>\n",
       "      <td>3.680000e-11</td>\n",
       "      <td>8.020000e-11</td>\n",
       "      <td>5.490000e-11</td>\n",
       "      <td>1.340000e-11</td>\n",
       "      <td>...</td>\n",
       "      <td>7.230000e-11</td>\n",
       "      <td>6.300000e-12</td>\n",
       "      <td>7.060000e-11</td>\n",
       "      <td>8.310000e-11</td>\n",
       "      <td>3.310000e-11</td>\n",
       "      <td>7.380000e-11</td>\n",
       "      <td>4.450000e-11</td>\n",
       "      <td>9.650000e-12</td>\n",
       "      <td>7.880000e-11</td>\n",
       "      <td>3.990000e-11</td>\n",
       "    </tr>\n",
       "    <tr>\n",
       "      <th>3</th>\n",
       "      <td>0</td>\n",
       "      <td>2</td>\n",
       "      <td>0</td>\n",
       "      <td>0</td>\n",
       "      <td>0</td>\n",
       "      <td>5.520000e-11</td>\n",
       "      <td>9.890000e-11</td>\n",
       "      <td>4.580000e-11</td>\n",
       "      <td>3.540000e-11</td>\n",
       "      <td>2.090000e-11</td>\n",
       "      <td>...</td>\n",
       "      <td>9.100000e-11</td>\n",
       "      <td>2.940000e-11</td>\n",
       "      <td>1.000000e-10</td>\n",
       "      <td>9.820000e-11</td>\n",
       "      <td>8.540000e-11</td>\n",
       "      <td>9.730000e-11</td>\n",
       "      <td>2.960000e-11</td>\n",
       "      <td>8.580000e-13</td>\n",
       "      <td>5.880000e-11</td>\n",
       "      <td>5.510000e-11</td>\n",
       "    </tr>\n",
       "    <tr>\n",
       "      <th>4</th>\n",
       "      <td>0</td>\n",
       "      <td>3</td>\n",
       "      <td>0</td>\n",
       "      <td>0</td>\n",
       "      <td>0</td>\n",
       "      <td>5.240000e-11</td>\n",
       "      <td>6.340000e-11</td>\n",
       "      <td>2.350000e-11</td>\n",
       "      <td>7.470000e-11</td>\n",
       "      <td>2.490000e-11</td>\n",
       "      <td>...</td>\n",
       "      <td>1.500000e-11</td>\n",
       "      <td>4.900000e-11</td>\n",
       "      <td>8.110000e-12</td>\n",
       "      <td>4.670000e-11</td>\n",
       "      <td>8.270000e-11</td>\n",
       "      <td>4.630000e-11</td>\n",
       "      <td>1.600000e-11</td>\n",
       "      <td>5.550000e-11</td>\n",
       "      <td>7.840000e-11</td>\n",
       "      <td>8.560000e-11</td>\n",
       "    </tr>\n",
       "  </tbody>\n",
       "</table>\n",
       "<p>5 rows × 6701 columns</p>\n",
       "</div>"
      ],
      "text/plain": [
       "   Diet  Source  Donor  CollectionMet  Sex          OTU0          OTU1  \\\n",
       "0     0       0      0              0    0  1.560000e-11  4.720000e-11   \n",
       "1     0       1      0              0    0  2.360000e-11  9.530000e-11   \n",
       "2     0       2      0              1    0  6.770000e-11  3.680000e-11   \n",
       "3     0       2      0              0    0  5.520000e-11  9.890000e-11   \n",
       "4     0       3      0              0    0  5.240000e-11  6.340000e-11   \n",
       "\n",
       "           OTU2          OTU3          OTU4      ...            OTU6686  \\\n",
       "0  1.230000e-11  4.520000e-11  2.720000e-11      ...       6.660000e-11   \n",
       "1  3.330000e-11  2.670000e-11  2.020000e-11      ...       3.260000e-12   \n",
       "2  8.020000e-11  5.490000e-11  1.340000e-11      ...       7.230000e-11   \n",
       "3  4.580000e-11  3.540000e-11  2.090000e-11      ...       9.100000e-11   \n",
       "4  2.350000e-11  7.470000e-11  2.490000e-11      ...       1.500000e-11   \n",
       "\n",
       "        OTU6687       OTU6688       OTU6689       OTU6690       OTU6691  \\\n",
       "0  3.020000e-11  4.420000e-11  7.310000e-11  7.770000e-11  4.330000e-11   \n",
       "1  5.390000e-11  4.730000e-11  2.600000e-11  4.240000e-11  6.550000e-11   \n",
       "2  6.300000e-12  7.060000e-11  8.310000e-11  3.310000e-11  7.380000e-11   \n",
       "3  2.940000e-11  1.000000e-10  9.820000e-11  8.540000e-11  9.730000e-11   \n",
       "4  4.900000e-11  8.110000e-12  4.670000e-11  8.270000e-11  4.630000e-11   \n",
       "\n",
       "        OTU6692       OTU6693       OTU6694       OTU6695  \n",
       "0  5.440000e-11  8.720000e-11  2.710000e-11  4.970000e-11  \n",
       "1  4.850000e-11  8.380000e-11  3.500000e-11  7.620000e-11  \n",
       "2  4.450000e-11  9.650000e-12  7.880000e-11  3.990000e-11  \n",
       "3  2.960000e-11  8.580000e-13  5.880000e-11  5.510000e-11  \n",
       "4  1.600000e-11  5.550000e-11  7.840000e-11  8.560000e-11  \n",
       "\n",
       "[5 rows x 6701 columns]"
      ]
     },
     "execution_count": 5,
     "metadata": {},
     "output_type": "execute_result"
    }
   ],
   "source": [
    "microbiome = pd.read_csv(\"../datasets/MicrobiomeWithMetadata.csv\")\n",
    "microbiome.head()"
   ]
  },
  {
   "cell_type": "markdown",
   "metadata": {},
   "source": [
    "The metadata file that's associated with this CSV file has to be re-coded from a CSV file to a YAML file."
   ]
  },
  {
   "cell_type": "code",
   "execution_count": null,
   "metadata": {
    "collapsed": true
   },
   "outputs": [],
   "source": [
    "from collections import defaultdict\n",
    "\n",
    "md = defaultdict(dict)  # \"md\" stands for \"metadata dictionary\"\n",
    "\n",
    "sex = [\"Male\", \"Female\"]\n",
    "donor = [\"HMouseLFPP\", \"CONVR\", \"Human\", \"Fresh\", \"Frozen\", \"HMouseWestern\", \"CONVD\"]\n",
    "diet = [\"LFPP\", \"Western\", \"CARBR\", \"FATR\", \"Suckling\", \"Human\"]\n",
    "source = [\n",
    "    \"Cecum1\",\n",
    "    \"Cecum2\",\n",
    "    \"Colon1\",\n",
    "    \"Colon2\",\n",
    "    \"Feces\",\n",
    "    \"SI1\",\n",
    "    \"SI13\",\n",
    "    \"SI15\",\n",
    "    \"SI2\",\n",
    "    \"SI5\",\n",
    "    \"SI9\",\n",
    "    \"Stomach\",\n",
    "    \"Cecum\",\n",
    "]\n",
    "collection_met = [\"Contents\", \"Scraping\"]\n",
    "\n",
    "for i, s in enumerate(sex):\n",
    "    md[\"sex\"][i] = s\n",
    "\n",
    "for i, d in enumerate(donor):\n",
    "    md[\"donor\"][i] = d\n",
    "\n",
    "for i, d in enumerate(diet):\n",
    "    md[\"diet\"][i] = d\n",
    "\n",
    "for i, s in enumerate(source):\n",
    "    md[\"source\"][i] = s\n",
    "\n",
    "for i, c in enumerate(collection_met):\n",
    "    md[\"collection_met\"][i] = c"
   ]
  },
  {
   "cell_type": "code",
   "execution_count": 20,
   "metadata": {},
   "outputs": [
    {
     "name": "stdout",
     "output_type": "stream",
     "text": [
      "!!python/object/apply:collections.defaultdict\n",
      "args: [!!python/name:builtins.dict '']\n",
      "dictitems:\n",
      "  collection_met: {0: Contents, 1: Scraping}\n",
      "  diet: {0: LFPP, 1: Western, 2: CARBR, 3: FATR, 4: Suckling, 5: Human}\n",
      "  donor: {0: HMouseLFPP, 1: CONVR, 2: Human, 3: Fresh, 4: Frozen, 5: HMouseWestern,\n",
      "    6: CONVD}\n",
      "  sex: {0: Male, 1: Female}\n",
      "  source: {0: Cecum1, 1: Cecum2, 2: Colon1, 3: Colon2, 4: Feces, 5: SI1, 6: SI13,\n",
      "    7: SI15, 8: SI2, 9: SI5, 10: SI9, 11: Stomach, 12: Cecum}\n",
      "\n"
     ]
    }
   ],
   "source": [
    "import yaml\n",
    "\n",
    "print(yaml.dump(md))"
   ]
  },
  {
   "cell_type": "code",
   "execution_count": 21,
   "metadata": {
    "collapsed": true
   },
   "outputs": [],
   "source": [
    "with open(\"datasets/MicrobiomeMetadataDictionary.yml\", \"w+\") as f:\n",
    "    f.write(yaml.dump(md))"
   ]
  },
  {
   "cell_type": "code",
   "execution_count": 23,
   "metadata": {},
   "outputs": [
    {
     "data": {
      "text/plain": [
       "defaultdict(dict,\n",
       "            {'collection_met': {0: 'Contents', 1: 'Scraping'},\n",
       "             'diet': {0: 'LFPP',\n",
       "              1: 'Western',\n",
       "              2: 'CARBR',\n",
       "              3: 'FATR',\n",
       "              4: 'Suckling',\n",
       "              5: 'Human'},\n",
       "             'donor': {0: 'HMouseLFPP',\n",
       "              1: 'CONVR',\n",
       "              2: 'Human',\n",
       "              3: 'Fresh',\n",
       "              4: 'Frozen',\n",
       "              5: 'HMouseWestern',\n",
       "              6: 'CONVD'},\n",
       "             'sex': {0: 'Male', 1: 'Female'},\n",
       "             'source': {0: 'Cecum1',\n",
       "              1: 'Cecum2',\n",
       "              2: 'Colon1',\n",
       "              3: 'Colon2',\n",
       "              4: 'Feces',\n",
       "              5: 'SI1',\n",
       "              6: 'SI13',\n",
       "              7: 'SI15',\n",
       "              8: 'SI2',\n",
       "              9: 'SI5',\n",
       "              10: 'SI9',\n",
       "              11: 'Stomach',\n",
       "              12: 'Cecum'}})"
      ]
     },
     "execution_count": 23,
     "metadata": {},
     "output_type": "execute_result"
    }
   ],
   "source": [
    "with open(\"datasets/MicrobiomeMetadataDictionary.yml\", \"r+\") as f:\n",
    "    metadata = yaml.load(f)\n",
    "\n",
    "metadata"
   ]
  },
  {
   "cell_type": "code",
   "execution_count": 24,
   "metadata": {
    "scrolled": true
   },
   "outputs": [
    {
     "data": {
      "text/plain": [
       "{0, 1, 2, 3, 4, 5}"
      ]
     },
     "execution_count": 24,
     "metadata": {},
     "output_type": "execute_result"
    }
   ],
   "source": [
    "set(microbiome[\"Diet\"].values)"
   ]
  },
  {
   "cell_type": "code",
   "execution_count": 25,
   "metadata": {},
   "outputs": [
    {
     "data": {
      "text/plain": [
       "{0, 1, 2, 3, 4, 5, 6, 7, 8, 9, 10, 11, 12}"
      ]
     },
     "execution_count": 25,
     "metadata": {},
     "output_type": "execute_result"
    }
   ],
   "source": [
    "set(microbiome[\"Source\"].values)"
   ]
  },
  {
   "cell_type": "code",
   "execution_count": 26,
   "metadata": {
    "collapsed": true
   },
   "outputs": [],
   "source": [
    "otu_cols = [c for c in microbiome.columns if \"OTU\" in c]"
   ]
  },
  {
   "cell_type": "code",
   "execution_count": null,
   "metadata": {
    "collapsed": true
   },
   "outputs": [],
   "source": [
    "with pm.Model() as dirichlet_model:\n",
    "    mu = pm.HalfNormal(\"mu\", sd=100 ** 2)\n",
    "    n_seq_reads = pm.Poisson(\"n_seq_reads\", mu=mu, observed=healthy_reads.sum(axis=1))\n",
    "    proportions = pm.Dirichlet(\"proportions\", a=np.ones(3), shape=(3,))\n",
    "    for i in range(healthy_reads.shape[0]):\n",
    "        draws = pm.Multinomial(\n",
    "            f\"draws_{i}\",\n",
    "            n=healthy_reads[i].sum(),\n",
    "            p=proportions,\n",
    "            observed=healthy_reads[i, :],\n",
    "        )\n",
    "    dirichlet_trace = pm.sample(draws=2000)\n",
    "    pm.traceplot(dirichlet_trace)"
   ]
  }
 ],
 "metadata": {
  "kernelspec": {
   "display_name": "bayesian",
   "language": "python",
   "name": "bayesian"
  },
  "language_info": {
   "codemirror_mode": {
    "name": "ipython",
    "version": 3
   },
   "file_extension": ".py",
   "mimetype": "text/x-python",
   "name": "python",
   "nbconvert_exporter": "python",
   "pygments_lexer": "ipython3",
   "version": "3.6.6"
  }
 },
 "nbformat": 4,
 "nbformat_minor": 2
}
